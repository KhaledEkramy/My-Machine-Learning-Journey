{
 "cells": [
  {
   "cell_type": "markdown",
   "metadata": {},
   "source": [
    "# Model"
   ]
  },
  {
   "cell_type": "markdown",
   "metadata": {},
   "source": [
    "## Implementation"
   ]
  },
  {
   "cell_type": "markdown",
   "metadata": {},
   "source": [
    "### Importing used libraries"
   ]
  },
  {
   "cell_type": "code",
   "execution_count": 1,
   "metadata": {},
   "outputs": [],
   "source": [
    "import numpy as np\n",
    "%matplotlib widget\n",
    "import matplotlib.pyplot as plt\n",
    "import math, copy\n"
   ]
  },
  {
   "cell_type": "markdown",
   "metadata": {},
   "source": [
    "### Sigmoid function"
   ]
  },
  {
   "cell_type": "markdown",
   "metadata": {},
   "source": [
    "$$\n",
    "g(z^{(i)}) = \\frac{1}{1 + e^{-z^{(i)}}}\n",
    "$$"
   ]
  },
  {
   "cell_type": "code",
   "execution_count": 20,
   "metadata": {},
   "outputs": [],
   "source": [
    "def sigmoid(z):\n",
    "    return 1 / (1 + np.exp(-z))"
   ]
  },
  {
   "cell_type": "markdown",
   "metadata": {},
   "source": [
    "### prediction function `f_wb`"
   ]
  },
  {
   "cell_type": "markdown",
   "metadata": {},
   "source": [
    "$$\n",
    "f_{\\mathbf{w},b}(\\mathbf{x^{(i)}}) = g(z^{(i)})\\\\\n",
    "z^{(i)} = \\mathbf{w} \\cdot \\mathbf{x}^{(i)}+ b\n",
    "$$"
   ]
  },
  {
   "cell_type": "code",
   "execution_count": 27,
   "metadata": {},
   "outputs": [],
   "source": [
    "def f_wb(X, w, b):\n",
    "    z = np.dot(X, w) + b\n",
    "    return sigmoid(z)"
   ]
  },
  {
   "cell_type": "markdown",
   "metadata": {},
   "source": [
    "### Loss function"
   ]
  },
  {
   "cell_type": "markdown",
   "metadata": {},
   "source": [
    "* $loss(f_{\\mathbf{w},b}(\\mathbf{x}^{(i)}), y^{(i)})$ is the cost for a single data point, which is:\n",
    "\n",
    "    $$loss(f_{\\mathbf{w},b}(\\mathbf{x}^{(i)}), y^{(i)}) = -y^{(i)} \\log\\left(f_{\\mathbf{w},b}\\left( \\mathbf{x}^{(i)} \\right) \\right) - \\left( 1 - y^{(i)}\\right) \\log \\left( 1 - f_{\\mathbf{w},b}\\left( \\mathbf{x}^{(i)} \\right) \\right) \\tag{2}$$"
   ]
  },
  {
   "cell_type": "code",
   "execution_count": 4,
   "metadata": {},
   "outputs": [],
   "source": [
    "def loss(y, y_hat):\n",
    "    return -y * np.log(y_hat) - (1 - y) * np.log(1 - y_hat)"
   ]
  },
  {
   "cell_type": "markdown",
   "metadata": {},
   "source": [
    "### The cost function is of the form"
   ]
  },
  {
   "cell_type": "markdown",
   "metadata": {},
   "source": [
    "$$ J(\\mathbf{w},b) = \\frac{1}{m} \\sum_{i=0}^{m-1} \\left[ loss(f_{\\mathbf{w},b}(\\mathbf{x}^{(i)}), y^{(i)}) \\right] $$"
   ]
  },
  {
   "cell_type": "code",
   "execution_count": 8,
   "metadata": {},
   "outputs": [],
   "source": [
    "def compute_cost_logistic(X, Y, w, b):\n",
    "    m = X.shape[0] \n",
    "    cost = 0.0\n",
    "    for i in range(m):\n",
    "        cost += loss(Y[i], f_wb(X[i], w, b))\n",
    "        \n",
    "    return cost / m"
   ]
  },
  {
   "cell_type": "markdown",
   "metadata": {},
   "source": [
    "### Computing Gradients `dj_dw, dj_b`"
   ]
  },
  {
   "cell_type": "markdown",
   "metadata": {},
   "source": [
    "$$\n",
    "\\frac{\\partial{J(\\vec{w}, b)}}{\\partial{w_j}} = \\frac{1}{m}  \\sum_{i=0}^{m-1} (f_{{\\vec w}, b}(\\vec{x}^{(i)}) - y^{(i)}) x^{(i)}_{j} \\\\ \n",
    "\\frac{\\partial{J(\\vec{w}, b)}}{\\partial{b}} = \\frac{1}{m}  \\sum_{i=0}^{m-1} (f_{{\\vec w}, b}(\\vec{x}^{(i)}) - y^{(i)})\n",
    "$$"
   ]
  },
  {
   "cell_type": "code",
   "execution_count": 30,
   "metadata": {},
   "outputs": [],
   "source": [
    "def compute_gradient_logistic(X, Y, w, b):\n",
    "    \"\"\"\n",
    "    Compute the gradient for logistic regression using vectorization.\n",
    "    \n",
    "    Args:\n",
    "        X: (m, n) matrix of input features\n",
    "        Y: (m, ) vector of labels\n",
    "        w: (n, ) vector of weights\n",
    "        b: scalar bias term\n",
    "\n",
    "    Returns:\n",
    "        dj_dw: (n, ) gradient of the cost with respect to w\n",
    "        dj_db: scalar gradient of the cost with respect to b\n",
    "    \"\"\"\n",
    "    # Number of examples\n",
    "    m = X.shape[0]\n",
    "    \n",
    "    # Compute the model predictions (vectorized sigmoid)\n",
    "    fwb =  f_wb(X, w, b)\n",
    "    \n",
    "    # Compute errors (vectorized)\n",
    "    error = fwb - Y  # Shape: (m, )\n",
    "    \n",
    "    # Compute gradients\n",
    "    dj_dw = (1 / m) * np.dot(X.T, error)  # Shape: (n, )\n",
    "    dj_db = (1 / m) * np.sum(error) \n",
    "    \n",
    "    return dj_dw, dj_db\n"
   ]
  },
  {
   "cell_type": "markdown",
   "metadata": {},
   "source": [
    "## Testing"
   ]
  },
  {
   "cell_type": "markdown",
   "metadata": {},
   "source": [
    "### Testing `compute_gradient_logistic` function"
   ]
  },
  {
   "cell_type": "code",
   "execution_count": 31,
   "metadata": {},
   "outputs": [
    {
     "name": "stdout",
     "output_type": "stream",
     "text": [
      "dj_db: 0.49861806546328574\n",
      "dj_dw: [0.498333393278696, 0.4988394298399669]\n"
     ]
    }
   ],
   "source": [
    "X_tmp = np.array([[0.5, 1.5], [1,1], [1.5, 0.5], [3, 0.5], [2, 2], [1, 2.5]])\n",
    "y_tmp = np.array([0, 0, 0, 1, 1, 1])\n",
    "w_tmp = np.array([2.,3.])\n",
    "b_tmp = 1.\n",
    "dj_dw_tmp, dj_db_tmp = compute_gradient_logistic(X_tmp, y_tmp, w_tmp, b_tmp)\n",
    "print(f\"dj_db: {dj_db_tmp}\" )\n",
    "print(f\"dj_dw: {dj_dw_tmp.tolist()}\" )"
   ]
  },
  {
   "cell_type": "code",
   "execution_count": null,
   "metadata": {},
   "outputs": [],
   "source": []
  },
  {
   "cell_type": "code",
   "execution_count": null,
   "metadata": {},
   "outputs": [],
   "source": []
  },
  {
   "cell_type": "code",
   "execution_count": null,
   "metadata": {},
   "outputs": [],
   "source": []
  },
  {
   "cell_type": "code",
   "execution_count": null,
   "metadata": {},
   "outputs": [],
   "source": []
  },
  {
   "cell_type": "code",
   "execution_count": null,
   "metadata": {},
   "outputs": [],
   "source": [
    "X_train = np.array([[0.5, 1.5], [1,1], [1.5, 0.5], [3, 0.5], [2, 2], [1, 2.5]])  #(m,n)\n",
    "y_train = np.array([0, 0, 0, 1, 1, 1])                                           #(m,)\n",
    "\n",
    "w_tmp = np.array([1,1])\n",
    "b_tmp = -3\n",
    "print(compute_cost_logistic(X_train, y_train, w_tmp, b_tmp))\n",
    "\n",
    "# Plot the data\n",
    "fig, ax = plt.subplots(1, 1, figsize = (7, 7))\n",
    "x0 = np.arange(0, 6)\n",
    "x1 = 3 - x0\n",
    "for i in range(X_train.shape[0]):\n",
    "    ax.plot(X_train[i][0], X_train[i][1], marker = 'o' if y_train[i] == 0 else 'x', color = 'r' if y_train[i] == 0 else 'b', label = '0' if y_train[i] == 0 else '1')\n",
    "\n",
    "ax.plot(x0, x1, label = 'w0*x0 + w1*x1 + b = 0', color=\"magenta\")\n",
    "ax.set_xlabel(\"$x_0$\", fontsize = 12)\n",
    "ax.set_ylabel(\"$x_1$\", fontsize = 12)\n",
    "plt.title(\"Dicision Boundary\")\n",
    "plt.legend(loc='upper right')\n",
    "plt.show()"
   ]
  },
  {
   "cell_type": "code",
   "execution_count": null,
   "metadata": {},
   "outputs": [],
   "source": [
    "w_array1 = np.array([1,1])\n",
    "b_1 = -3\n",
    "w_array2 = np.array([1,1])\n",
    "b_2 = -4\n",
    "\n",
    "print(\"Cost for b = -3 : \", compute_cost_logistic(X_train, y_train, w_array1, b_1))\n",
    "print(\"Cost for b = -4 : \", compute_cost_logistic(X_train, y_train, w_array2, b_2))"
   ]
  },
  {
   "cell_type": "code",
   "execution_count": null,
   "metadata": {},
   "outputs": [],
   "source": []
  }
 ],
 "metadata": {
  "kernelspec": {
   "display_name": "base",
   "language": "python",
   "name": "python3"
  },
  "language_info": {
   "codemirror_mode": {
    "name": "ipython",
    "version": 3
   },
   "file_extension": ".py",
   "mimetype": "text/x-python",
   "name": "python",
   "nbconvert_exporter": "python",
   "pygments_lexer": "ipython3",
   "version": "3.12.3"
  }
 },
 "nbformat": 4,
 "nbformat_minor": 2
}
